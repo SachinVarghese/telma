{
 "cells": [
  {
   "cell_type": "markdown",
   "metadata": {},
   "source": [
    "# TELMA - Toolkit Evaluator for Language Model Agents\n",
    "\n",
    "A toolkit evaluator for language model agents or assistants"
   ]
  },
  {
   "cell_type": "markdown",
   "metadata": {},
   "source": [
    "## Define Tools"
   ]
  },
  {
   "cell_type": "markdown",
   "metadata": {},
   "source": [
    "### Langchain Tools"
   ]
  },
  {
   "cell_type": "code",
   "execution_count": null,
   "metadata": {},
   "outputs": [],
   "source": [
    "# !pip install -U duckduckgo-search\n",
    "from langchain.tools import DuckDuckGoSearchRun\n",
    "\n",
    "tool1 = DuckDuckGoSearchRun()"
   ]
  },
  {
   "cell_type": "code",
   "execution_count": null,
   "metadata": {},
   "outputs": [],
   "source": [
    "from langchain.tools import BraveSearch\n",
    "\n",
    "tool2 = BraveSearch.from_api_key(api_key=\"xxx\", search_kwargs={\"count\": 3})"
   ]
  },
  {
   "cell_type": "code",
   "execution_count": null,
   "metadata": {},
   "outputs": [],
   "source": [
    "from telma import Tool\n",
    "\n",
    "tool1 = Tool.from_langchain_tool(tool1)\n",
    "tool2 = Tool.from_langchain_tool(tool2)"
   ]
  },
  {
   "cell_type": "markdown",
   "metadata": {},
   "source": [
    "### Open AI Functions"
   ]
  },
  {
   "cell_type": "code",
   "execution_count": null,
   "metadata": {},
   "outputs": [],
   "source": [
    "from openai.types import FunctionDefinition"
   ]
  },
  {
   "cell_type": "code",
   "execution_count": null,
   "metadata": {},
   "outputs": [],
   "source": [
    "tool3_params = {\n",
    "    \"type\": \"object\",\n",
    "    \"properties\": {\n",
    "        \"to\": {\"type\": \"string\"},\n",
    "        \"body\": {\"type\": \"string\"},\n",
    "    },\n",
    "    \"additionalProperties\": \"false\",\n",
    "}\n",
    "tool3 = FunctionDefinition(\n",
    "    name=\"send_email\", parameters=tool3_params, description=\"Send an email\"\n",
    ")"
   ]
  },
  {
   "cell_type": "code",
   "execution_count": null,
   "metadata": {},
   "outputs": [],
   "source": [
    "tool4_params = {\n",
    "    \"type\": \"object\",\n",
    "    \"properties\": {\n",
    "        \"location\": {\"type\": \"string\"},\n",
    "        \"unit\": {\"enum\": [\"celsius\", \"fahrenheit\", \"kelvin\"]},\n",
    "    },\n",
    "    \"additionalProperties\": \"false\",\n",
    "}\n",
    "\n",
    "\n",
    "tool4 = FunctionDefinition(\n",
    "    name=\"get_current_weather\",\n",
    "    parameters=tool4_params,\n",
    "    description=\"Find out about weather\",\n",
    ")"
   ]
  },
  {
   "cell_type": "code",
   "execution_count": null,
   "metadata": {},
   "outputs": [],
   "source": [
    "from telma import Tool\n",
    "\n",
    "tool3 = Tool.from_openai_function(tool3)\n",
    "tool4 = Tool.from_openai_function(tool4)"
   ]
  },
  {
   "cell_type": "markdown",
   "metadata": {},
   "source": [
    "### Huggingface Tools"
   ]
  },
  {
   "cell_type": "code",
   "execution_count": null,
   "metadata": {},
   "outputs": [],
   "source": [
    "# !pip install diffusers accelerate\n",
    "from transformers import load_tool\n",
    "\n",
    "tool5 = load_tool(\"text-to-speech\")\n",
    "tool6 = load_tool(\"huggingface-tools/text-to-image\")"
   ]
  },
  {
   "cell_type": "code",
   "execution_count": null,
   "metadata": {},
   "outputs": [],
   "source": [
    "from telma import Tool\n",
    "\n",
    "tool5 = Tool.from_huggingfaceHub(tool5)\n",
    "tool6 = Tool.from_huggingfaceHub(tool6)"
   ]
  },
  {
   "cell_type": "markdown",
   "metadata": {},
   "source": [
    "## Assemble Toolkit"
   ]
  },
  {
   "cell_type": "code",
   "execution_count": null,
   "metadata": {},
   "outputs": [],
   "source": [
    "from telma import ToolKit\n",
    "\n",
    "tools = [tool1, tool2, tool3, tool4, tool5, tool6]\n",
    "toolkit = ToolKit(tools=tools)\n",
    "# toolkit.get_tools()"
   ]
  },
  {
   "cell_type": "markdown",
   "metadata": {},
   "source": [
    "## Toolkit Comparison"
   ]
  },
  {
   "cell_type": "markdown",
   "metadata": {},
   "source": [
    "### Design Evaluator"
   ]
  },
  {
   "cell_type": "code",
   "execution_count": null,
   "metadata": {},
   "outputs": [],
   "source": [
    "from telma import SimpleEvaluator\n",
    "\n",
    "evaluator = SimpleEvaluator()"
   ]
  },
  {
   "cell_type": "markdown",
   "metadata": {},
   "source": [
    "### Assemble Toolkits"
   ]
  },
  {
   "cell_type": "code",
   "execution_count": null,
   "metadata": {},
   "outputs": [],
   "source": [
    "from telma import ToolKit\n",
    "\n",
    "tools = [tool1, tool2]\n",
    "toolkit1 = ToolKit(tools=tools)"
   ]
  },
  {
   "cell_type": "code",
   "execution_count": null,
   "metadata": {},
   "outputs": [],
   "source": [
    "from telma import ToolKit\n",
    "\n",
    "tools = [tool2, tool3, tool4]\n",
    "toolkit2 = ToolKit(tools=tools)"
   ]
  },
  {
   "cell_type": "markdown",
   "metadata": {},
   "source": [
    "### Evaluate and Compare"
   ]
  },
  {
   "cell_type": "code",
   "execution_count": null,
   "metadata": {},
   "outputs": [],
   "source": [
    "score1 = toolkit1.evaluate(evaluator=evaluator)"
   ]
  },
  {
   "cell_type": "code",
   "execution_count": null,
   "metadata": {},
   "outputs": [],
   "source": [
    "score2 = toolkit2.evaluate(evaluator=evaluator)"
   ]
  },
  {
   "cell_type": "code",
   "execution_count": 33,
   "metadata": {},
   "outputs": [
    {
     "name": "stdout",
     "output_type": "stream",
     "text": [
      "Toolkit 2 is better that Toolkit 1!\n"
     ]
    }
   ],
   "source": [
    "if score1 > score2:\n",
    "    print(\"Toolkit 1 is better that Toolkit 2!\")\n",
    "else:\n",
    "    print(\"Toolkit 2 is better that Toolkit 1!\")"
   ]
  },
  {
   "cell_type": "markdown",
   "metadata": {},
   "source": [
    "## References\n",
    "\n",
    "- Tool Schema Definition - [JSON Schema](https://json-schema.org/understanding-json-schema/)\n",
    "- Tool Comparison - [Semantic Textual Similarity](https://www.sbert.net/docs/usage/semantic_textual_similarity.html)"
   ]
  }
 ],
 "metadata": {
  "kernelspec": {
   "display_name": ".venv",
   "language": "python",
   "name": "python3"
  },
  "language_info": {
   "codemirror_mode": {
    "name": "ipython",
    "version": 3
   },
   "file_extension": ".py",
   "mimetype": "text/x-python",
   "name": "python",
   "nbconvert_exporter": "python",
   "pygments_lexer": "ipython3",
   "version": "3.11.2"
  }
 },
 "nbformat": 4,
 "nbformat_minor": 2
}

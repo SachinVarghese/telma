{
 "cells": [
  {
   "cell_type": "markdown",
   "metadata": {},
   "source": [
    "# TELMA - Toolkit Evaluator for Language Model Agents"
   ]
  },
  {
   "cell_type": "markdown",
   "metadata": {},
   "source": [
    "**TELMA** is a toolkit evaluator for language model agents.\n",
    "\n",
    "> Equip your language model agents or AI assistants with the best set of tool definitions."
   ]
  },
  {
   "cell_type": "markdown",
   "metadata": {},
   "source": [
    "### Abstract"
   ]
  },
  {
   "cell_type": "markdown",
   "metadata": {},
   "source": [
    "The ability of the agentic language model to efficiently utilize a set of tools depends not only on the individual tool definitions but also on what tools are grouped in a context. The agentic behaviour using language models can be hugely enhanced by choosing the right set of tool definitions in a context.\n",
    "\n",
    "TELMA is a toolkit evaluator for language model agents or AI assistants. TELMA aims to assist with the evaluation and comparison of different combinations of such tool definitions to improve the agentic behaviour.\n",
    "\n",
    "Source code available on GitHub: [https://github.com/SachinVarghese/telma](https://github.com/SachinVarghese/telma)"
   ]
  },
  {
   "cell_type": "markdown",
   "metadata": {},
   "source": [
    "### Contents\n",
    "\n",
    "* [Background](#background)\n",
    "* [Usage](#usage)\n",
    "* [Tool definitions](#tool-definitions)\n",
    "* [Toolkit assembly](#toolkit-assembly)\n",
    "* [Toolkit evaluation and comparison](#toolkit-evaluation-and-comparison)\n",
    "    * [Define evaluation heuristic](#define-evaluation-heuristic)    \n",
    "    * [Evaluate and compare toolkits](#evaluate-and-compare-toolkits)  \n",
    "* [References](#references)"
   ]
  },
  {
   "cell_type": "markdown",
   "metadata": {},
   "source": [
    "## Background"
   ]
  },
  {
   "cell_type": "markdown",
   "metadata": {},
   "source": [
    "AI assistants or agents can be built by leveraging an agentic language model behavior. Agentic behavior is the ability of a language model to plan the next steps as actions and utilize external tools to solve tasks. For this, a language model is prompted with a set of tool definitions and instructions on how to use these tools in order to complete different types of tasks. A combination of such tools in a language model context can be referred to as an agent toolkit."
   ]
  },
  {
   "cell_type": "markdown",
   "metadata": {},
   "source": [
    "## Usage"
   ]
  },
  {
   "cell_type": "markdown",
   "metadata": {},
   "source": [
    "TELMA provides interfaces to define language model agent tools, assemble them as toolkits, and run evaluations on these toolkits based on any defined heuristic. TELMA provides some evaluation heuristics out of the box that can be used to score and compare toolkits or extended to build custom evaluators. So the main usage steps are\n",
    "\n",
    "- Defines tools for a language model agent\n",
    "- Define toolkits as a group of such tools\n",
    "- Evaluate toolkits on any user-defined heuristic\n",
    "- Compare toolkits to choose the best fit for an agent"
   ]
  },
  {
   "cell_type": "code",
   "execution_count": 41,
   "metadata": {},
   "outputs": [],
   "source": [
    "from telma import Tool, ToolKit\n",
    "\n",
    "tool = Tool(\n",
    "    name=\"python code interpreter\",\n",
    "    description=\"this tool interprets python code and responds with the log results\",\n",
    "    signature_schema={\"type\": \"string\"},\n",
    ")\n",
    "\n",
    "toolkit = ToolKit(tools=[tool])"
   ]
  },
  {
   "cell_type": "code",
   "execution_count": 42,
   "metadata": {},
   "outputs": [
    {
     "data": {
      "text/plain": [
       "-3.9736429924275285e-08"
      ]
     },
     "execution_count": 42,
     "metadata": {},
     "output_type": "execute_result"
    }
   ],
   "source": [
    "from telma.evaluators import SemanticDissimilarityEvaluator\n",
    "\n",
    "toolkit.evaluate(evaluator=SemanticDissimilarityEvaluator())"
   ]
  },
  {
   "cell_type": "markdown",
   "metadata": {},
   "source": [
    "## Tool definitions"
   ]
  },
  {
   "cell_type": "markdown",
   "metadata": {},
   "source": [
    "Many frameworks/projects help build language model-based agents or AI assistants like Langchain, Huggingface, etc. TELMA aims to integrate with most such projects to define tools and compare toolkits. Agentic Tools can be defined in TELMA in multiple ways as follows,\n",
    "- Native definition (see schema definition for details)and host a set of tools\n",
    "- From Langchain Hub tools\n",
    "- From Open AI functions\n",
    "- From Huggingface Hub Tools\n",
    "- From LlamaIndex Module Tools"
   ]
  },
  {
   "cell_type": "markdown",
   "metadata": {},
   "source": [
    "### Native tool definition"
   ]
  },
  {
   "cell_type": "code",
   "execution_count": 43,
   "metadata": {},
   "outputs": [],
   "source": [
    "tool0 = Tool(\n",
    "    name=\"Google search\",\n",
    "    description=\"This tool helps to retrieve information from Google search results\",\n",
    "    signature_schema={\"type\": \"string\"},\n",
    ")"
   ]
  },
  {
   "cell_type": "markdown",
   "metadata": {},
   "source": [
    "### Langchain Tools"
   ]
  },
  {
   "cell_type": "code",
   "execution_count": 44,
   "metadata": {},
   "outputs": [],
   "source": [
    "# !pip install -U langchain duckduckgo-search\n",
    "from langchain.tools import DuckDuckGoSearchRun, BraveSearch"
   ]
  },
  {
   "cell_type": "code",
   "execution_count": 45,
   "metadata": {},
   "outputs": [],
   "source": [
    "tool1 = Tool.from_langchain_tool(DuckDuckGoSearchRun())"
   ]
  },
  {
   "cell_type": "code",
   "execution_count": 46,
   "metadata": {},
   "outputs": [],
   "source": [
    "tool2 = Tool.from_langchain_tool(\n",
    "    BraveSearch.from_api_key(api_key=\"xxx\", search_kwargs={\"count\": 3})\n",
    ")"
   ]
  },
  {
   "cell_type": "markdown",
   "metadata": {},
   "source": [
    "### Open AI Functions"
   ]
  },
  {
   "cell_type": "code",
   "execution_count": 47,
   "metadata": {},
   "outputs": [],
   "source": [
    "# !pip install -U openai\n",
    "from openai.types import FunctionDefinition"
   ]
  },
  {
   "cell_type": "code",
   "execution_count": 48,
   "metadata": {},
   "outputs": [],
   "source": [
    "tool3 = Tool.from_openai_function(\n",
    "    FunctionDefinition(\n",
    "        name=\"send_email\",\n",
    "        parameters={\n",
    "            \"type\": \"object\",\n",
    "            \"properties\": {\n",
    "                \"to\": {\"type\": \"string\"},\n",
    "                \"body\": {\"type\": \"string\"},\n",
    "            },\n",
    "            \"additionalProperties\": \"false\",\n",
    "        },\n",
    "        description=\"Send an email\",\n",
    "    )\n",
    ")"
   ]
  },
  {
   "cell_type": "code",
   "execution_count": 49,
   "metadata": {},
   "outputs": [],
   "source": [
    "tool4 = Tool.from_openai_function(\n",
    "    FunctionDefinition(\n",
    "        name=\"get_current_weather\",\n",
    "        parameters={\n",
    "            \"type\": \"object\",\n",
    "            \"properties\": {\n",
    "                \"location\": {\"type\": \"string\"},\n",
    "                \"unit\": {\"enum\": [\"celsius\", \"fahrenheit\", \"kelvin\"]},\n",
    "            },\n",
    "            \"additionalProperties\": \"false\",\n",
    "        },\n",
    "        description=\"Find out about weather\",\n",
    "    )\n",
    ")"
   ]
  },
  {
   "cell_type": "markdown",
   "metadata": {},
   "source": [
    "### Huggingface Hub Tools"
   ]
  },
  {
   "cell_type": "code",
   "execution_count": 50,
   "metadata": {},
   "outputs": [],
   "source": [
    "# !pip install -U transformers diffusers accelerate\n",
    "from transformers import load_tool"
   ]
  },
  {
   "cell_type": "code",
   "execution_count": 51,
   "metadata": {},
   "outputs": [],
   "source": [
    "tool5 = Tool.from_huggingfaceHub(load_tool(\"text-to-speech\"))"
   ]
  },
  {
   "cell_type": "code",
   "execution_count": 52,
   "metadata": {},
   "outputs": [],
   "source": [
    "tool6 = Tool.from_huggingfaceHub(load_tool(\"huggingface-tools/text-to-image\"))"
   ]
  },
  {
   "cell_type": "markdown",
   "metadata": {},
   "source": [
    "### Llama Index"
   ]
  },
  {
   "cell_type": "code",
   "execution_count": 53,
   "metadata": {},
   "outputs": [],
   "source": [
    "# !pip install -U llama_index\n",
    "from llama_index.tools import QueryEngineTool, ToolMetadata"
   ]
  },
  {
   "cell_type": "code",
   "execution_count": 54,
   "metadata": {},
   "outputs": [],
   "source": [
    "tool7 = Tool.from_llamaIndex(\n",
    "    QueryEngineTool(\n",
    "        query_engine=None,\n",
    "        metadata=ToolMetadata(\n",
    "            name=\"lyft_2021\",\n",
    "            description=(\n",
    "                \"Provides information about Lyft financials for year 2021.\"\n",
    "                \"Use a detailed plain text question as input to the tool.\"\n",
    "            ),\n",
    "        ),\n",
    "    )\n",
    ")"
   ]
  },
  {
   "cell_type": "markdown",
   "metadata": {},
   "source": []
  },
  {
   "cell_type": "markdown",
   "metadata": {},
   "source": [
    "## Toolkit assembly"
   ]
  },
  {
   "cell_type": "markdown",
   "metadata": {},
   "source": [
    "Most language model agents work with one or more tools in a context. Once you have defined a set of tools, a toolkit can be assembled follows:"
   ]
  },
  {
   "cell_type": "code",
   "execution_count": 55,
   "metadata": {},
   "outputs": [],
   "source": [
    "from telma import ToolKit\n",
    "\n",
    "tools = [tool0, tool1, tool2, tool3, tool4, tool5, tool6, tool7]\n",
    "toolkit = ToolKit(tools=tools)"
   ]
  },
  {
   "cell_type": "markdown",
   "metadata": {},
   "source": [
    "### Assemble 2 toolkits for comparison"
   ]
  },
  {
   "cell_type": "markdown",
   "metadata": {},
   "source": [
    "To demonstrate toolkit comparison, let's define two different toolkits, \n",
    "- `Toolkit 1` with three similar search tools [Google Search, DuckDuckGo Search and Brave Search] \n",
    "- `Toolkit 2` with three different tools [send_email, get_current_weather, text-to-speech]"
   ]
  },
  {
   "cell_type": "code",
   "execution_count": 56,
   "metadata": {},
   "outputs": [],
   "source": [
    "toolkit1 = ToolKit(tools=[tool0, tool1, tool2])\n",
    "toolkit2 = ToolKit(tools=[tool3, tool4, tool5])"
   ]
  },
  {
   "cell_type": "markdown",
   "metadata": {},
   "source": [
    "## Toolkit evaluation and comparison"
   ]
  },
  {
   "cell_type": "markdown",
   "metadata": {},
   "source": [
    "In theory, an agentic behaviour powered by a language model should have more difficulty differentiating and choosing between the tools in `Toolkit 1` compared to `Toolkit 2` due to the similarity of tool definitions. So the agent would be less efficient in selecting the right tool when using `Toolkit 1` especially if the language model is less powerful. \n",
    "\n",
    "For such reason, it is extremely important to evaluate toolkits to understand the efficiency of agentic behaviour using language models."
   ]
  },
  {
   "cell_type": "markdown",
   "metadata": {},
   "source": [
    "### Define Evaluation Heuristic"
   ]
  },
  {
   "cell_type": "markdown",
   "metadata": {},
   "source": [
    "For the toolkit evaluation, we utilize the out-of-the-box semantic dissimilarity evaluator. The heuristic with this evaluation is that the variance in tool naming and descriptions makes it easier for a language model to choose between the tools for different requirements. Such a  criteria be extremely useful with smaller language models(fewer parameters) that are less powerful. "
   ]
  },
  {
   "cell_type": "code",
   "execution_count": 57,
   "metadata": {},
   "outputs": [],
   "source": [
    "from telma import SemanticDissimilarityEvaluator\n",
    "\n",
    "evaluator = SemanticDissimilarityEvaluator()"
   ]
  },
  {
   "cell_type": "markdown",
   "metadata": {},
   "source": [
    "> Note: The `Evaluator` class in TELMA can also be extended to create custom evaluation heuristics. TELMA users are encouraged to create custom toolkit evaluators to meet their agent requirements."
   ]
  },
  {
   "cell_type": "markdown",
   "metadata": {},
   "source": [
    "### Evaluate and compare toolkits"
   ]
  },
  {
   "cell_type": "markdown",
   "metadata": {},
   "source": [
    "Now let's compute the evaluation score based on our defined heuristic."
   ]
  },
  {
   "cell_type": "code",
   "execution_count": 58,
   "metadata": {},
   "outputs": [],
   "source": [
    "score1 = toolkit1.evaluate(evaluator=evaluator)\n",
    "score2 = toolkit2.evaluate(evaluator=evaluator)"
   ]
  },
  {
   "cell_type": "code",
   "execution_count": 59,
   "metadata": {},
   "outputs": [
    {
     "name": "stdout",
     "output_type": "stream",
     "text": [
      "Toolkit 2 is better suited for my agent!\n"
     ]
    }
   ],
   "source": [
    "if score1 > score2:\n",
    "    print(\"Toolkit 1 is better suited for my agent!\")\n",
    "else:\n",
    "    print(\"Toolkit 2 is better suited for my agent!\")"
   ]
  },
  {
   "cell_type": "markdown",
   "metadata": {},
   "source": [
    "Hope this project helps build better language model agents!"
   ]
  },
  {
   "cell_type": "markdown",
   "metadata": {},
   "source": [
    "## References\n",
    "\n",
    "- [Langchain Hub Tools](https://python.langchain.com/docs/modules/agents/tools/custom_tools)\n",
    "- [Open AI functions](https://platform.openai.com/docs/guides/function-calling)\n",
    "- [Huggingface Hub Tools](https://huggingface.co/docs/transformers/custom_tools)\n",
    "- [LlamaIndex Module Tools](https://docs.llamaindex.ai/en/stable/optimizing/agentic_strategies/agentic_strategies.html)\n",
    "- Tool Schema Definition - [JSON Schema](https://json-schema.org/understanding-json-schema/)\n",
    "- Tool Comparison - [Semantic Textual Similarity](https://www.sbert.net/docs/usage/semantic_textual_similarity.html)"
   ]
  }
 ],
 "metadata": {
  "kernelspec": {
   "display_name": ".venv",
   "language": "python",
   "name": "python3"
  },
  "language_info": {
   "codemirror_mode": {
    "name": "ipython",
    "version": 3
   },
   "file_extension": ".py",
   "mimetype": "text/x-python",
   "name": "python",
   "nbconvert_exporter": "python",
   "pygments_lexer": "ipython3",
   "version": "3.11.2"
  }
 },
 "nbformat": 4,
 "nbformat_minor": 2
}

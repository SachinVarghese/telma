{
 "cells": [
  {
   "cell_type": "markdown",
   "metadata": {},
   "source": [
    "# TELMA - Toolkit Evaluator for Language Model Agents\n",
    "\n",
    "TELMA is a toolkit evaluator for language model agents or assistants. \n",
    "\n",
    "## Introduction\n",
    "\n",
    "AI assistants or agents can be built by leveraging an agentic language model behavior. Agentic behavior is the ability of a language model to use external tools to solve tasks. For this, a language model is prompted with a set of tool definitions and instructions on how to use these tools to complete different types of tasks.\n",
    "\n",
    "> ***The ability of the agentic language model to efficiently utilize a set of tools depends not only on the tool definitions but also on what group tools are used together in a context. This project aims at assisting with the evaluation and comparison of different toolkits i.e. combinations of such tool definitions in the same context.***"
   ]
  },
  {
   "cell_type": "markdown",
   "metadata": {},
   "source": [
    "## Usage\n",
    "\n",
    "TELMA provides interfaces to define language model agent tools, assemble them as toolkits, and run evaluations on these toolkits based on any defined heuristic. TELMA provides some evaluation heuristics out of the box that can be used to score and compare toolkits or extended to build custom evaluators. So the main usage steps are\n",
    "\n",
    "- Defines language model agent tools\n",
    "- Define toolkits as a combination of tools\n",
    "- Evaluate Individual toolkits on a heuristic\n",
    "- Compare toolkits to choose the best fit"
   ]
  },
  {
   "cell_type": "markdown",
   "metadata": {},
   "source": [
    "## Define Tools\n",
    "\n",
    "Many frameworks/projects help build language model-based agents or AI assistants like Langchain, Huggingface, etc. TELMA aims to integrate with most such projects to define tools and compare toolkits. Agentic Tools can be defined in TELMA in multiple ways as follows,\n",
    "- Native definition (see schema definition for details)and host a set of tools\n",
    "- From Langchain Hub tools\n",
    "- From Open AI functions\n",
    "- From Huggingface Hub Tools\n",
    "- From LlamaIndex Module Tools"
   ]
  },
  {
   "cell_type": "markdown",
   "metadata": {},
   "source": [
    "### Schema"
   ]
  },
  {
   "cell_type": "code",
   "execution_count": 1,
   "metadata": {},
   "outputs": [
    {
     "name": "stderr",
     "output_type": "stream",
     "text": [
      "/home/sachin/projects/experiments/telma/.venv/lib/python3.11/site-packages/tqdm/auto.py:21: TqdmWarning: IProgress not found. Please update jupyter and ipywidgets. See https://ipywidgets.readthedocs.io/en/stable/user_install.html\n",
      "  from .autonotebook import tqdm as notebook_tqdm\n"
     ]
    },
    {
     "name": "stdout",
     "output_type": "stream",
     "text": [
      "{'properties': {'description': {'title': 'Description', 'type': 'string'},\n",
      "                'name': {'title': 'Name', 'type': 'string'},\n",
      "                'signature_schema': {'title': 'Signature Schema',\n",
      "                                     'type': 'object'}},\n",
      " 'required': ['name', 'description', 'signature_schema'],\n",
      " 'title': 'Tool',\n",
      " 'type': 'object'}\n"
     ]
    }
   ],
   "source": [
    "from telma import Tool\n",
    "from pprint import pprint\n",
    "\n",
    "pprint(Tool.model_json_schema())"
   ]
  },
  {
   "cell_type": "markdown",
   "metadata": {},
   "source": [
    "### Native Tool Definition"
   ]
  },
  {
   "cell_type": "markdown",
   "metadata": {},
   "source": [
    "Let's define an example tool"
   ]
  },
  {
   "cell_type": "code",
   "execution_count": 2,
   "metadata": {},
   "outputs": [],
   "source": [
    "from telma import Tool\n",
    "\n",
    "tool0 = Tool(\n",
    "    name=\"example tool\",\n",
    "    description=\"example tool description\",\n",
    "    signature_schema={\"type\": \"string\"},\n",
    ")"
   ]
  },
  {
   "cell_type": "markdown",
   "metadata": {},
   "source": [
    "### Langchain Tools"
   ]
  },
  {
   "cell_type": "markdown",
   "metadata": {},
   "source": [
    "Now let's define some tools from Langchain Hub that can be utilized by agents."
   ]
  },
  {
   "cell_type": "code",
   "execution_count": 3,
   "metadata": {},
   "outputs": [],
   "source": [
    "# !pip install -U duckduckgo-search\n",
    "from langchain.tools import DuckDuckGoSearchRun\n",
    "\n",
    "tool1 = DuckDuckGoSearchRun()"
   ]
  },
  {
   "cell_type": "code",
   "execution_count": 4,
   "metadata": {},
   "outputs": [],
   "source": [
    "from langchain.tools import BraveSearch\n",
    "\n",
    "tool2 = BraveSearch.from_api_key(api_key=\"xxx\", search_kwargs={\"count\": 3})"
   ]
  },
  {
   "cell_type": "code",
   "execution_count": 5,
   "metadata": {},
   "outputs": [],
   "source": [
    "from telma import Tool\n",
    "\n",
    "tool1 = Tool.from_langchain_tool(tool1)\n",
    "tool2 = Tool.from_langchain_tool(tool2)"
   ]
  },
  {
   "cell_type": "markdown",
   "metadata": {},
   "source": [
    "### Open AI Functions"
   ]
  },
  {
   "cell_type": "markdown",
   "metadata": {},
   "source": [
    "Now let's define some tools from Open AI function definitions."
   ]
  },
  {
   "cell_type": "code",
   "execution_count": 6,
   "metadata": {},
   "outputs": [],
   "source": [
    "from openai.types import FunctionDefinition\n",
    "\n",
    "tool3_params = {\n",
    "    \"type\": \"object\",\n",
    "    \"properties\": {\n",
    "        \"to\": {\"type\": \"string\"},\n",
    "        \"body\": {\"type\": \"string\"},\n",
    "    },\n",
    "    \"additionalProperties\": \"false\",\n",
    "}\n",
    "tool3 = FunctionDefinition(\n",
    "    name=\"send_email\", parameters=tool3_params, description=\"Send an email\"\n",
    ")"
   ]
  },
  {
   "cell_type": "code",
   "execution_count": 7,
   "metadata": {},
   "outputs": [],
   "source": [
    "from openai.types import FunctionDefinition\n",
    "\n",
    "tool4_params = {\n",
    "    \"type\": \"object\",\n",
    "    \"properties\": {\n",
    "        \"location\": {\"type\": \"string\"},\n",
    "        \"unit\": {\"enum\": [\"celsius\", \"fahrenheit\", \"kelvin\"]},\n",
    "    },\n",
    "    \"additionalProperties\": \"false\",\n",
    "}\n",
    "\n",
    "\n",
    "tool4 = FunctionDefinition(\n",
    "    name=\"get_current_weather\",\n",
    "    parameters=tool4_params,\n",
    "    description=\"Find out about weather\",\n",
    ")"
   ]
  },
  {
   "cell_type": "code",
   "execution_count": 8,
   "metadata": {},
   "outputs": [],
   "source": [
    "from telma import Tool\n",
    "\n",
    "tool3 = Tool.from_openai_function(tool3)\n",
    "tool4 = Tool.from_openai_function(tool4)"
   ]
  },
  {
   "cell_type": "markdown",
   "metadata": {},
   "source": [
    "### Huggingface Hub Tools"
   ]
  },
  {
   "cell_type": "markdown",
   "metadata": {},
   "source": [
    "Now let's define some tools from Huggingface Hub that can be utilized by agents."
   ]
  },
  {
   "cell_type": "code",
   "execution_count": 9,
   "metadata": {},
   "outputs": [],
   "source": [
    "# !pip install diffusers accelerate\n",
    "from transformers import load_tool\n",
    "\n",
    "tool5 = load_tool(\"text-to-speech\")\n",
    "tool6 = load_tool(\"huggingface-tools/text-to-image\")"
   ]
  },
  {
   "cell_type": "code",
   "execution_count": 10,
   "metadata": {},
   "outputs": [],
   "source": [
    "from telma import Tool\n",
    "\n",
    "tool5 = Tool.from_huggingfaceHub(tool5)\n",
    "tool6 = Tool.from_huggingfaceHub(tool6)"
   ]
  },
  {
   "cell_type": "markdown",
   "metadata": {},
   "source": [
    "### Llama Index"
   ]
  },
  {
   "cell_type": "markdown",
   "metadata": {},
   "source": [
    "Now let's define some tools from the Llama Index modules"
   ]
  },
  {
   "cell_type": "code",
   "execution_count": 11,
   "metadata": {},
   "outputs": [],
   "source": [
    "from llama_index.tools import QueryEngineTool, ToolMetadata\n",
    "\n",
    "tool7 = QueryEngineTool(\n",
    "    query_engine=None,\n",
    "    metadata=ToolMetadata(\n",
    "        name=\"lyft_10k\",\n",
    "        description=(\n",
    "            \"Provides information about Lyft financials for year 2021. \"\n",
    "            \"Use a detailed plain text question as input to the tool.\"\n",
    "        ),\n",
    "    ),\n",
    ")"
   ]
  },
  {
   "cell_type": "code",
   "execution_count": 12,
   "metadata": {},
   "outputs": [],
   "source": [
    "from telma import Tool\n",
    "\n",
    "tool7 = Tool.from_llamaIndex(tool7)"
   ]
  },
  {
   "cell_type": "markdown",
   "metadata": {},
   "source": [
    "## Toolkit Assembly"
   ]
  },
  {
   "cell_type": "markdown",
   "metadata": {},
   "source": [
    "Once you have defined a set of tools, a toolkit created using the set as follows "
   ]
  },
  {
   "cell_type": "code",
   "execution_count": 13,
   "metadata": {},
   "outputs": [],
   "source": [
    "from telma import ToolKit\n",
    "\n",
    "tools = [tool0, tool1, tool2, tool3, tool4, tool5, tool6, tool7]\n",
    "toolkit = ToolKit(tools=tools)\n",
    "\n",
    "# toolkit.get_tools()"
   ]
  },
  {
   "cell_type": "markdown",
   "metadata": {},
   "source": [
    "### Assemble Two Toolkits for Comparison"
   ]
  },
  {
   "cell_type": "markdown",
   "metadata": {},
   "source": [
    "To demonstrate toolkit comparison, let's define two different toolkits, \n",
    "- `Toolkit 1` with two similar search tools and \n",
    "- `Toolkit 2` with three varied tools"
   ]
  },
  {
   "cell_type": "code",
   "execution_count": 14,
   "metadata": {},
   "outputs": [],
   "source": [
    "from telma import ToolKit\n",
    "\n",
    "toolkit1 = ToolKit(tools=[tool1, tool2])\n",
    "toolkit2 = ToolKit(tools=[tool2, tool3, tool4])"
   ]
  },
  {
   "cell_type": "markdown",
   "metadata": {},
   "source": [
    "Logically an agentic behaviour powered by a language model should have more difficulty choosing between the tools in Toolkit 1 compared to Toolkit 2 due to the similarity of tools definitions. So the agent would be less efficient in choosing the right tool for a job when using Toolkit 1 especially if the utilized language model is less powerful. For this reason, it is important to evaluate toolkits to understand the efficiency of agentic behaviour using language models."
   ]
  },
  {
   "cell_type": "markdown",
   "metadata": {},
   "source": [
    "## Toolkit Evaluation and Comparison"
   ]
  },
  {
   "cell_type": "markdown",
   "metadata": {},
   "source": [
    "### Define/Design Evaluation Heuristic"
   ]
  },
  {
   "cell_type": "markdown",
   "metadata": {},
   "source": [
    "For the toolkit evaluation, we utilize the out-of-the-box semantic dissimilarity evaluator. The theory here is that the variance in tool naming and definitions makes the job of the language model easier to choose between the tools for different requirements.\n",
    "\n",
    "The `Evaluator` class in TELMA can also be extended to create custom evaluation heuristics."
   ]
  },
  {
   "cell_type": "code",
   "execution_count": 15,
   "metadata": {},
   "outputs": [],
   "source": [
    "from telma import SemanticDissimilarityEvaluator\n",
    "\n",
    "evaluator = SemanticDissimilarityEvaluator()"
   ]
  },
  {
   "cell_type": "markdown",
   "metadata": {},
   "source": [
    "### Evaluate and compare toolkits"
   ]
  },
  {
   "cell_type": "markdown",
   "metadata": {},
   "source": [
    "Now let's compute the evaluation score based on our defined heuristic."
   ]
  },
  {
   "cell_type": "code",
   "execution_count": 16,
   "metadata": {},
   "outputs": [],
   "source": [
    "score1 = toolkit1.evaluate(evaluator=evaluator)\n",
    "score2 = toolkit2.evaluate(evaluator=evaluator)"
   ]
  },
  {
   "cell_type": "code",
   "execution_count": 17,
   "metadata": {},
   "outputs": [
    {
     "name": "stdout",
     "output_type": "stream",
     "text": [
      "Toolkit 2 is better that Toolkit 1!\n"
     ]
    }
   ],
   "source": [
    "if score1 > score2:\n",
    "    print(\"Toolkit 1 is better that Toolkit 2!\")\n",
    "else:\n",
    "    print(\"Toolkit 2 is better that Toolkit 1!\")"
   ]
  },
  {
   "cell_type": "markdown",
   "metadata": {},
   "source": [
    "## References\n",
    "\n",
    "- [Langchain Hub Tools](https://python.langchain.com/docs/modules/agents/tools/custom_tools)\n",
    "- [Open AI functions](https://platform.openai.com/docs/guides/function-calling)\n",
    "- [Huggingface Hub Tools](https://huggingface.co/docs/transformers/custom_tools)\n",
    "- [LlamaIndex Module Tools](https://docs.llamaindex.ai/en/stable/optimizing/agentic_strategies/agentic_strategies.html)\n",
    "- Tool Schema Definition - [JSON Schema](https://json-schema.org/understanding-json-schema/)\n",
    "- Tool Comparison - [Semantic Textual Similarity](https://www.sbert.net/docs/usage/semantic_textual_similarity.html)"
   ]
  }
 ],
 "metadata": {
  "kernelspec": {
   "display_name": ".venv",
   "language": "python",
   "name": "python3"
  },
  "language_info": {
   "codemirror_mode": {
    "name": "ipython",
    "version": 3
   },
   "file_extension": ".py",
   "mimetype": "text/x-python",
   "name": "python",
   "nbconvert_exporter": "python",
   "pygments_lexer": "ipython3",
   "version": "3.11.2"
  }
 },
 "nbformat": 4,
 "nbformat_minor": 2
}
